{
 "cells": [
  {
   "cell_type": "code",
   "execution_count": null,
   "metadata": {},
   "outputs": [],
   "source": [
    "from mlboardclient.api import client\n",
    "import numpy as np\n",
    "import pandas as pd\n",
    "from numpy import random\n",
    "import os"
   ]
  },
  {
   "cell_type": "code",
   "execution_count": null,
   "metadata": {},
   "outputs": [],
   "source": [
    "#Generate training set\n",
    "train = pd.DataFrame(random.randint(low=0, high=100, size=(1000,2)),columns=['x', 'y'])\n",
    "train['label'] = train.apply(lambda v: 0 if v['x']>v['y']+(5-random.random_sample()*10) else 1,axis=1)"
   ]
  },
  {
   "cell_type": "code",
   "execution_count": null,
   "metadata": {},
   "outputs": [],
   "source": [
    "#Visualize training set\n",
    "%matplotlib inline\n",
    "import matplotlib.pyplot as plt\n",
    "ax = train[train['label']>0].plot.scatter(x='x', y='y', color='DarkBlue', label='Group 1');\n",
    "train[train['label']<1].plot.scatter(x='x', y='y', color='DarkGreen', label='Group 2', ax=ax);\n",
    "plt.show()"
   ]
  },
  {
   "cell_type": "code",
   "execution_count": null,
   "metadata": {},
   "outputs": [],
   "source": [
    "#Generate validation set\n",
    "test = pd.DataFrame(random.randint(low=0, high=100, size=(100,2)),columns=['x', 'y'])\n",
    "test['label'] = test.apply(lambda v: 0 if v['x']>v['y'] else 1,axis=1)"
   ]
  },
  {
   "cell_type": "code",
   "execution_count": null,
   "metadata": {},
   "outputs": [],
   "source": [
    "#Save datas to file\n",
    "dataset = os.environ.get('TRAINING_DIR')+'/data'\n",
    "if not os.path.exists(dataset):\n",
    "    os.makedirs(dataset)\n",
    "    \n",
    "train.to_csv(dataset+'/train.csv')\n",
    "test.to_csv(dataset+'/test.csv')"
   ]
  },
  {
   "cell_type": "code",
   "execution_count": null,
   "metadata": {},
   "outputs": [],
   "source": [
    "##Connection to Kuberlab API\n",
    "kl = client.Client()\n",
    "kl.datasets.push(os.environ.get('WORKSPACE_NAME'),'my_svm','1.0.0',dataset,create=True)"
   ]
  }
 ],
 "metadata": {
  "kernelspec": {
   "display_name": "Python 3",
   "language": "python",
   "name": "python3"
  },
  "language_info": {
   "codemirror_mode": {
    "name": "ipython",
    "version": 3.0
   },
   "file_extension": ".py",
   "mimetype": "text/x-python",
   "name": "python",
   "nbconvert_exporter": "python",
   "pygments_lexer": "ipython3",
   "version": "3.6.4"
  }
 },
 "nbformat": 4,
 "nbformat_minor": 0
}